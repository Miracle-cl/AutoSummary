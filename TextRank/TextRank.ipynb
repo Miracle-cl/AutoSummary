{
 "cells": [
  {
   "cell_type": "markdown",
   "metadata": {},
   "source": [
    "## PageRank\n",
    "\n",
    "#### Implement PageRank Algorithms by Numpy"
   ]
  },
  {
   "cell_type": "markdown",
   "metadata": {},
   "source": [
    "![title](./pagerank.PNG)"
   ]
  },
  {
   "cell_type": "code",
   "execution_count": 1,
   "metadata": {},
   "outputs": [
    {
     "data": {
      "text/plain": [
       "array([[0.        , 0.5       , 0.        , 0.5       , 0.        ],\n",
       "       [0.        , 0.        , 0.5       , 0.        , 0.5       ],\n",
       "       [0.        , 0.        , 0.        , 1.        , 0.        ],\n",
       "       [0.        , 0.        , 0.        , 0.        , 1.        ],\n",
       "       [0.33333333, 0.33333333, 0.33333333, 0.        , 0.        ]])"
      ]
     },
     "execution_count": 1,
     "metadata": {},
     "output_type": "execute_result"
    }
   ],
   "source": [
    "import numpy as np\n",
    "\n",
    "edge_mat = np.array([[0, 0.5, 0, 0.5, 0],\n",
    "                     [0, 0, 0.5, 0, 0.5],\n",
    "                     [0, 0, 0, 1, 0], \n",
    "                     [0, 0, 0, 0, 1], \n",
    "                     [1./3, 1./3, 1./3, 0, 0]])\n",
    "edge_mat"
   ]
  },
  {
   "cell_type": "code",
   "execution_count": 6,
   "metadata": {},
   "outputs": [
    {
     "name": "stdout",
     "output_type": "stream",
     "text": [
      "[0.2 0.2 0.2 0.2 0.2]\n",
      "[0.06666667 0.16666667 0.16666667 0.3        0.3       ]\n",
      "[0.1        0.13333333 0.18333333 0.2        0.38333333]\n",
      "[0.12777778 0.17777778 0.19444444 0.23333333 0.26666667]\n",
      "[0.08888889 0.15277778 0.17777778 0.25833333 0.32222222]\n",
      "[0.10740741 0.15185185 0.1837963  0.22222222 0.33472222]\n",
      "[0.11157407 0.16527778 0.1875     0.2375     0.29814815]\n",
      "[0.09938272 0.15516975 0.1820216  0.24328704 0.32013889]\n",
      "[0.10671296 0.15640432 0.18429784 0.23171296 0.32087191]\n",
      "[0.1069573  0.16031379 0.18515947 0.23765432 0.30991512]\n",
      "[0.10330504 0.15678369 0.18346193 0.23863812 0.31781121]\n",
      "[0.10593707 0.15758959 0.18432892 0.23511445 0.31702996]\n",
      "[0.10567665 0.15864519 0.18447145 0.23729745 0.31390925]\n",
      "[0.10463642 0.15747474 0.18395901 0.23730978 0.31662005]\n",
      "[0.10554002 0.15785822 0.18427739 0.23627722 0.31604715]\n",
      "[0.10534905 0.15811906 0.18427816 0.2370474  0.31520633]\n",
      "[0.10506878 0.1577433  0.18412831 0.23695269 0.31610693]\n",
      "[0.10536898 0.15790336 0.18424063 0.2366627  0.31582434]\n",
      "[0.10527478 0.15795927 0.18422646 0.23692511 0.31561438]\n",
      "[0.10520479 0.15784218 0.18418443 0.23686385 0.31590475]\n",
      "[0.10530158 0.15790398 0.18422267 0.23678682 0.31578494]\n",
      "[0.10526165 0.15791244 0.18421364 0.23687347 0.31573881]\n",
      "[0.10524627 0.15787709 0.18420249 0.23684446 0.31582968]\n",
      "[0.10527656 0.1578997  0.18421511 0.23682563 0.31578301]\n",
      "[0.105261   0.15789928 0.18421085 0.23685339 0.31577547]\n",
      "[0.10525849 0.15788899 0.18420813 0.23684135 0.31580303]\n",
      "[0.10526768 0.15789692 0.18421217 0.23683738 0.31578585]\n",
      "[0.10526195 0.15789579 0.18421041 0.23684601 0.31578584]\n",
      "[0.10526195 0.15789292 0.18420984 0.23684139 0.31579391]\n",
      "[0.10526464 0.15789561 0.1842111  0.23684081 0.31578785]\n",
      "[0.10526262 0.15789493 0.18421042 0.23684341 0.31578862]\n",
      "[0.10526287 0.15789418 0.18421034 0.23684173 0.31579088]\n",
      "[0.10526363 0.15789506 0.18421072 0.23684178 0.31578882]\n",
      "[0.10526294 0.15789475 0.18421047 0.23684253 0.31578931]\n",
      "[0.1052631  0.15789457 0.18421048 0.23684194 0.31578991]\n",
      "[0.1052633  0.15789485 0.18421059 0.23684203 0.31578923]\n",
      "[0.10526308 0.15789473 0.1842105  0.23684224 0.31578946]\n",
      "[0.10526315 0.15789469 0.18421052 0.23684204 0.3157896 ]\n",
      "[0.1052632  0.15789478 0.18421055 0.23684209 0.31578938]\n",
      "[0.10526313 0.15789473 0.18421052 0.23684215 0.31578948]\n",
      "[0.10526316 0.15789472 0.18421052 0.23684208 0.31578951]\n",
      "[0.10526317 0.15789475 0.18421053 0.2368421  0.31578944]\n",
      "[0.10526315 0.15789473 0.18421052 0.23684212 0.31578948]\n",
      "[0.10526316 0.15789473 0.18421053 0.2368421  0.31578948]\n",
      "[0.10526316 0.15789474 0.18421053 0.23684211 0.31578946]\n",
      "[0.10526315 0.15789474 0.18421053 0.23684211 0.31578948]\n",
      "[0.10526316 0.15789474 0.18421053 0.2368421  0.31578948]\n",
      "[0.10526316 0.15789474 0.18421053 0.23684211 0.31578947]\n",
      "[0.10526316 0.15789474 0.18421053 0.23684211 0.31578947]\n",
      "[0.10526316 0.15789474 0.18421053 0.2368421  0.31578947]\n"
     ]
    }
   ],
   "source": [
    "state = np.array([0.2, 0.2, 0.2, 0.2, 0.2]).reshape(1, 5) # initial weight of each node\n",
    "\n",
    "def next_state(state, edge_mat):\n",
    "    return state.dot(edge_mat)\n",
    "\n",
    "# convergence\n",
    "for _ in range(50):\n",
    "    print(state[0])\n",
    "    state = next_state(state, edge_mat)"
   ]
  },
  {
   "cell_type": "code",
   "execution_count": null,
   "metadata": {},
   "outputs": [],
   "source": []
  },
  {
   "cell_type": "code",
   "execution_count": null,
   "metadata": {},
   "outputs": [],
   "source": []
  },
  {
   "cell_type": "markdown",
   "metadata": {},
   "source": [
    "## Text Summary by TextRank\n",
    "\n",
    "#### Cited from https://www.analyticsvidhya.com/blog/2018/11/introduction-text-summarization-textrank-python/"
   ]
  },
  {
   "cell_type": "code",
   "execution_count": 1,
   "metadata": {},
   "outputs": [
    {
     "data": {
      "text/html": [
       "<div>\n",
       "<style scoped>\n",
       "    .dataframe tbody tr th:only-of-type {\n",
       "        vertical-align: middle;\n",
       "    }\n",
       "\n",
       "    .dataframe tbody tr th {\n",
       "        vertical-align: top;\n",
       "    }\n",
       "\n",
       "    .dataframe thead th {\n",
       "        text-align: right;\n",
       "    }\n",
       "</style>\n",
       "<table border=\"1\" class=\"dataframe\">\n",
       "  <thead>\n",
       "    <tr style=\"text-align: right;\">\n",
       "      <th></th>\n",
       "      <th>article_id</th>\n",
       "      <th>article_text</th>\n",
       "      <th>source</th>\n",
       "    </tr>\n",
       "  </thead>\n",
       "  <tbody>\n",
       "    <tr>\n",
       "      <th>0</th>\n",
       "      <td>1</td>\n",
       "      <td>Maria Sharapova has basically no friends as te...</td>\n",
       "      <td>https://www.tennisworldusa.org/tennis/news/Mar...</td>\n",
       "    </tr>\n",
       "    <tr>\n",
       "      <th>1</th>\n",
       "      <td>2</td>\n",
       "      <td>BASEL, Switzerland (AP), Roger Federer advance...</td>\n",
       "      <td>http://www.tennis.com/pro-game/2018/10/copil-s...</td>\n",
       "    </tr>\n",
       "    <tr>\n",
       "      <th>2</th>\n",
       "      <td>3</td>\n",
       "      <td>Roger Federer has revealed that organisers of ...</td>\n",
       "      <td>https://scroll.in/field/899938/tennis-roger-fe...</td>\n",
       "    </tr>\n",
       "    <tr>\n",
       "      <th>3</th>\n",
       "      <td>4</td>\n",
       "      <td>Kei Nishikori will try to end his long losing ...</td>\n",
       "      <td>http://www.tennis.com/pro-game/2018/10/nishiko...</td>\n",
       "    </tr>\n",
       "    <tr>\n",
       "      <th>4</th>\n",
       "      <td>5</td>\n",
       "      <td>Federer, 37, first broke through on tour over ...</td>\n",
       "      <td>https://www.express.co.uk/sport/tennis/1036101...</td>\n",
       "    </tr>\n",
       "  </tbody>\n",
       "</table>\n",
       "</div>"
      ],
      "text/plain": [
       "   article_id                                       article_text  \\\n",
       "0           1  Maria Sharapova has basically no friends as te...   \n",
       "1           2  BASEL, Switzerland (AP), Roger Federer advance...   \n",
       "2           3  Roger Federer has revealed that organisers of ...   \n",
       "3           4  Kei Nishikori will try to end his long losing ...   \n",
       "4           5  Federer, 37, first broke through on tour over ...   \n",
       "\n",
       "                                              source  \n",
       "0  https://www.tennisworldusa.org/tennis/news/Mar...  \n",
       "1  http://www.tennis.com/pro-game/2018/10/copil-s...  \n",
       "2  https://scroll.in/field/899938/tennis-roger-fe...  \n",
       "3  http://www.tennis.com/pro-game/2018/10/nishiko...  \n",
       "4  https://www.express.co.uk/sport/tennis/1036101...  "
      ]
     },
     "execution_count": 1,
     "metadata": {},
     "output_type": "execute_result"
    }
   ],
   "source": [
    "import numpy as np\n",
    "import pandas as pd\n",
    "import nltk\n",
    "import re\n",
    "\n",
    "df = pd.read_csv('tennis_articles_v4.csv')\n",
    "df.head()"
   ]
  },
  {
   "cell_type": "code",
   "execution_count": 2,
   "metadata": {},
   "outputs": [
    {
     "data": {
      "text/plain": [
       "['Maria Sharapova has basically no friends as tennis players on the WTA Tour.',\n",
       " \"The Russian player has no problems in openly speaking about it and in a recent interview she said: 'I don't really hide any feelings too much.\",\n",
       " 'I think everyone knows this is my job here.',\n",
       " \"When I'm on the courts or when I'm on the court playing, I'm a competitor and I want to beat every single person whether they're in the locker room or across the net.So I'm not the one to strike up a conversation about the weather and know that in the next few minutes I have to go and try to win a tennis match.\",\n",
       " \"I'm a pretty competitive girl.\",\n",
       " \"I say my hellos, but I'm not sending any players flowers as well.\",\n",
       " \"Uhm, I'm not really friendly or close to many players.\",\n",
       " \"I have not a lot of friends away from the courts.'\",\n",
       " 'When she said she is not really close to a lot of players, is that something strategic that she is doing?',\n",
       " \"Is it different on the men's tour than the women's tour?\",\n",
       " \"'No, not at all.\",\n",
       " \"I think just because you're in the same sport doesn't mean that you have to be friends with everyone just because you're categorized, you're a tennis player, so you're going to get along with tennis players.\",\n",
       " 'I think every person has different interests.',\n",
       " \"I have friends that have completely different jobs and interests, and I've met them in very different parts of my life.\",\n",
       " \"I think everyone just thinks because we're tennis players we should be the greatest of friends.\",\n",
       " 'But ultimately tennis is just a very small part of what we do.',\n",
       " \"There are so many other things that we're interested in, that we do.'\"]"
      ]
     },
     "execution_count": 2,
     "metadata": {},
     "output_type": "execute_result"
    }
   ],
   "source": [
    "from nltk.tokenize import sent_tokenize\n",
    "\n",
    "sents = []\n",
    "\n",
    "for text in df['article_text']:\n",
    "    sents.append( sent_tokenize(text) )\n",
    "    \n",
    "sents[0]"
   ]
  },
  {
   "cell_type": "code",
   "execution_count": 3,
   "metadata": {},
   "outputs": [
    {
     "name": "stdout",
     "output_type": "stream",
     "text": [
      "8\n",
      "119\n"
     ]
    }
   ],
   "source": [
    "# flatten list\n",
    "print(len(sents))\n",
    "sents = [sent for text in sents for sent in text]\n",
    "print(len(sents))"
   ]
  },
  {
   "cell_type": "code",
   "execution_count": 11,
   "metadata": {},
   "outputs": [
    {
     "data": {
      "text/plain": [
       "0    maria sharapova has basically no friends as te...\n",
       "1    the russian player has no problems in openly s...\n",
       "2          i think everyone knows this is my job here \n",
       "3    when i m on the courts or when i m on the cour...\n",
       "4                       i m a pretty competitive girl \n",
       "dtype: object"
      ]
     },
     "execution_count": 11,
     "metadata": {},
     "output_type": "execute_result"
    }
   ],
   "source": [
    "clean_sents = pd.Series(sents).str.replace(\"[^A-Za-z]\", \" \").map(lambda s : s.lower())\n",
    "clean_sents[:5]"
   ]
  },
  {
   "cell_type": "code",
   "execution_count": 12,
   "metadata": {},
   "outputs": [
    {
     "data": {
      "text/plain": [
       "['maria sharapova basically friends tennis players wta tour',\n",
       " 'russian player problems openly speaking recent interview said really hide feelings much',\n",
       " 'think everyone knows job',\n",
       " 'courts court playing competitor want beat every single person whether locker room across net one strike conversation weather know next minutes go try win tennis match',\n",
       " 'pretty competitive girl']"
      ]
     },
     "execution_count": 12,
     "metadata": {},
     "output_type": "execute_result"
    }
   ],
   "source": [
    "from nltk.corpus import stopwords\n",
    "stop_words = stopwords.words('english')\n",
    "\n",
    "new_clean_sents = [\" \".join([word for word in sent.split() if word not in stop_words]) \n",
    "                   for sent in clean_sents]\n",
    "new_clean_sents[:5]"
   ]
  },
  {
   "cell_type": "code",
   "execution_count": 13,
   "metadata": {},
   "outputs": [],
   "source": [
    "## extract word vectors\n",
    "import pickle\n",
    "\n",
    "with open(\"/data/charley/wiki.en.pkl\", 'rb') as f:\n",
    "    w2v = pickle.load(f)"
   ]
  },
  {
   "cell_type": "code",
   "execution_count": 33,
   "metadata": {},
   "outputs": [],
   "source": [
    "# cal sentences' vectors\n",
    "def cal_sent_vec(sent):\n",
    "    words_vec = []\n",
    "    for word in sent.split():\n",
    "        try:\n",
    "            vec = w2v[word]\n",
    "        except:\n",
    "            vec = None\n",
    "        if vec is not None:\n",
    "            words_vec.append(vec)\n",
    "    if words_vec:\n",
    "        words_vec = np.mean(np.stack(words_vec, axis=0), axis=0)\n",
    "    else:\n",
    "        words_vec = np.zeros(300)\n",
    "    return words_vec\n",
    "\n",
    "sent_vectors = np.zeros((len(new_clean_sents), 300))\n",
    "for i, sent in enumerate(new_clean_sents):\n",
    "    sent_vectors[i] = cal_sent_vec(sent)"
   ]
  },
  {
   "cell_type": "code",
   "execution_count": 34,
   "metadata": {},
   "outputs": [
    {
     "data": {
      "text/plain": [
       "(119, 300)"
      ]
     },
     "execution_count": 34,
     "metadata": {},
     "output_type": "execute_result"
    }
   ],
   "source": [
    "sent_vectors.shape"
   ]
  },
  {
   "cell_type": "code",
   "execution_count": 45,
   "metadata": {},
   "outputs": [
    {
     "name": "stdout",
     "output_type": "stream",
     "text": [
      "Similarity Matrix shape :  (119, 119)\n",
      "Calculate times :  7140\n"
     ]
    }
   ],
   "source": [
    "# Similarity Matrix Preparation : cosine similarity approach\n",
    "from sklearn.metrics.pairwise import cosine_similarity\n",
    "\n",
    "n_sents = len(sent_vectors)\n",
    "sim_mat = np.zeros((n_sents, n_sents))\n",
    "print(\"Similarity Matrix shape : \", sim_mat.shape)\n",
    "\n",
    "flag = 0 # should be 7140 = (119 * 119 + 119) / 2\n",
    "for i in range(n_sents):\n",
    "    for j in range(i, n_sents):\n",
    "        flag += 1\n",
    "        sim_mat[i, j] = cosine_similarity(sent_vectors[i].reshape(1,300), sent_vectors[j].reshape(1,300))[0, 0]\n",
    "        sim_mat[j, i] = sim_mat[i, j]\n",
    "print(\"Calculate times : \", flag)"
   ]
  },
  {
   "cell_type": "code",
   "execution_count": 53,
   "metadata": {},
   "outputs": [
    {
     "name": "stdout",
     "output_type": "stream",
     "text": [
      "{0: 0.008257385300905444, 1: 0.008552984173964814, 2: 0.007377628949334913, 3: 0.009500026954462613, 4: 0.007460904161930153, 5: 0.007950160271358296, 6: 0.008270276913897449, 7: 0.0077376501288717965, 8: 0.008382238679931207, 9: 0.007144537857265566, 10: 0.0012695725958021694, 11: 0.008794953892181242, 12: 0.00765210154388084, 13: 0.007838706343377553, 14: 0.008578805509609978, 15: 0.007731192394003882, 16: 0.00714876275318397, 17: 0.00885263832287492, 18: 0.008936251703270441, 19: 0.009237010737111515, 20: 0.009191967318032599, 21: 0.008185553727876263, 22: 0.008913683543301123, 23: 0.008879650290175928, 24: 0.008069469453047439, 25: 0.007355214444275351, 26: 0.009235649742231908, 27: 0.009162692421209984, 28: 0.009245687330435279, 29: 0.009392227773811499, 30: 0.009565760547092982, 31: 0.008833157794485645, 32: 0.0065201382758553784, 33: 0.007838593094264854, 34: 0.009278410185449353, 35: 0.00926975193811599, 36: 0.008693585838734436, 37: 0.009211432148630802, 38: 0.00924949194576739, 39: 0.00933259762723302, 40: 0.0070121105466982225, 41: 0.007064391851908369, 42: 0.007062724889704858, 43: 0.007056213156998533, 44: 0.009117835260500076, 45: 0.008708941955986467, 46: 0.009302453085147338, 47: 0.008216404017845116, 48: 0.008783487656879321, 49: 0.008350672941553698, 50: 0.00795322299310992, 51: 0.008318756333744456, 52: 0.008839452896533762, 53: 0.008355815301851947, 54: 0.009423407910549434, 55: 0.008672913631517218, 56: 0.008877744941463563, 57: 0.008547787630557625, 58: 0.009074787622837411, 59: 0.009136403060073869, 60: 0.009088385373957142, 61: 0.009012324055674467, 62: 0.008682933512311105, 63: 0.008078809242406459, 64: 0.008549878264350453, 65: 0.007339106779588299, 66: 0.009188219377148999, 67: 0.008060453599073076, 68: 0.009121907729996812, 69: 0.008199909174532971, 70: 0.009243453031291952, 71: 0.008946633291119586, 72: 0.007837536680158571, 73: 0.008941269780742358, 74: 0.007711034767415438, 75: 0.006599009883887009, 76: 0.007864258764299926, 77: 0.008954330303324286, 78: 0.008684811661495068, 79: 0.009265190448147137, 80: 0.008879328269743518, 81: 0.00901126961218327, 82: 0.009153392040628757, 83: 0.009140891298827818, 84: 0.008931760188512456, 85: 0.008830059473284253, 86: 0.009090898394710648, 87: 0.008742566092553625, 88: 0.008750154746429432, 89: 0.007410689108331533, 90: 0.009382422936538425, 91: 0.0085241641964802, 92: 0.008526307008709481, 93: 0.00877875324647723, 94: 0.008814259432667393, 95: 0.00821237929357204, 96: 0.008975701125154618, 97: 0.00874741536690211, 98: 0.008332636346377523, 99: 0.008715554102443835, 100: 0.008391331885316463, 101: 0.00914933471556701, 102: 0.00944844787009416, 103: 0.009082814693930404, 104: 0.00793597601379901, 105: 0.00817011321963083, 106: 0.008692939755507618, 107: 0.007679597540536263, 108: 0.009010140353920539, 109: 0.007843200631657526, 110: 0.00802398296968912, 111: 0.00794660176566705, 112: 0.0069039097306203764, 113: 0.006347743360719829, 114: 0.008834249119740163, 115: 0.008530335128113173, 116: 0.007596608121031261, 117: 0.008007265221884254, 118: 0.008111317588418392}\n"
     ]
    }
   ],
   "source": [
    "import networkx as nx\n",
    "\n",
    "nx_graph = nx.from_numpy_array(sim_mat)\n",
    "scores = nx.pagerank(nx_graph)\n",
    "print(scores)"
   ]
  },
  {
   "cell_type": "code",
   "execution_count": 54,
   "metadata": {},
   "outputs": [
    {
     "data": {
      "text/plain": [
       "0.9999999999999998"
      ]
     },
     "execution_count": 54,
     "metadata": {},
     "output_type": "execute_result"
    }
   ],
   "source": [
    "# all scores == 1\n",
    "sumv = 0\n",
    "for k, v in scores.items():\n",
    "    sumv += v\n",
    "sumv"
   ]
  },
  {
   "cell_type": "code",
   "execution_count": 58,
   "metadata": {},
   "outputs": [
    {
     "name": "stdout",
     "output_type": "stream",
     "text": [
      "0 -- Speaking at the Swiss Indoors tournament where he will play in Sundays final against Romanian qualifier Marius Copil, the world number three said that given the impossibly short time frame to make a decision, he opted out of any commitment.\n",
      "\n",
      "1 -- When I'm on the courts or when I'm on the court playing, I'm a competitor and I want to beat every single person whether they're in the locker room or across the net.So I'm not the one to strike up a conversation about the weather and know that in the next few minutes I have to go and try to win a tennis match.\n",
      "\n",
      "2 -- But first the 20-time Grand Slam winner wants to train on the Paris Masters court this afternoon before deciding whether to appear for his opening match against either Milos Raonic or Jo-Wilfried Tsonga.\n",
      "\n",
      "3 -- Currently in ninth place, Nishikori with a win could move to within 125 points of the cut for the eight-man event in London next month.\n",
      "\n",
      "4 -- Roger Federer has revealed that organisers of the re-launched and condensed Davis Cup gave him three days to decide if he would commit to the controversial competition.\n",
      "\n",
      "5 -- The end of the season is finally in sight, and with so many players defending,or losing,huge chunks of points in Singapore, Zhuhai and London, podcast co-hosts Nina Pantic and Irina Falconi discuss the art of defending points (02:14).\n",
      "\n",
      "6 -- Federer said earlier this month in Shanghai in that his chances of playing the Davis Cup were all but non-existent.\n",
      "\n",
      "7 -- Kei Nishikori will try to end his long losing streak in ATP finals and Kevin Anderson will go for his second title of the year at the Erste Bank Open on Sunday.\n",
      "\n",
      "8 -- The 20-time Grand Slam champion has voiced doubts about the wisdom of the one-week format to be introduced by organisers Kosmos, who have promised the International Tennis Federation up to $3 billion in prize money over the next quarter-century.\n",
      "\n",
      "9 -- The competition is set to feature 18 countries in the November 18-24 finals in Madrid next year, and will replace the classic home-and-away ties played four times per year for decades.\n",
      "\n"
     ]
    }
   ],
   "source": [
    "# Summary Extraction\n",
    "ranked_sentences = sorted(((scores[i],s) for i,s in enumerate(sents)), reverse=True)\n",
    "\n",
    "# Extract top 10 sentences as the summary\n",
    "for i in range(10):\n",
    "    print(i, '--', ranked_sentences[i][1])\n",
    "    print()"
   ]
  },
  {
   "cell_type": "code",
   "execution_count": null,
   "metadata": {},
   "outputs": [],
   "source": []
  }
 ],
 "metadata": {
  "kernelspec": {
   "display_name": "charley",
   "language": "python",
   "name": "charley"
  },
  "language_info": {
   "codemirror_mode": {
    "name": "ipython",
    "version": 3
   },
   "file_extension": ".py",
   "mimetype": "text/x-python",
   "name": "python",
   "nbconvert_exporter": "python",
   "pygments_lexer": "ipython3",
   "version": "3.6.7"
  }
 },
 "nbformat": 4,
 "nbformat_minor": 2
}
